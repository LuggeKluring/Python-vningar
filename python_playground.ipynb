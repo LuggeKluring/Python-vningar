{
 "cells": [
  {
   "cell_type": "markdown",
   "metadata": {},
   "source": [
    "<h2>"
   ]
  },
  {
   "cell_type": "markdown",
   "metadata": {},
   "source": [
    "<h2>Import av moduler</h2>\n",
    "Moduler kan man likna vid färdiga kodpaket. Dessa kan innehålla alla möjliga olika funktioner från att utföra matematiska beräkningar och läsa in olika filtyper, till att rita ut grafer och diagram. Ett av de vanligaste modulerna är <i>Math</i>. Denna ger oss ett antal färdiga matematiska konstanter så som Pi, och olika funktioner för att göra matematiska beräkningar enklare.\n",
    "<p>För att inkludera en modul i ett program använder man sig av kommandot \"import\", följt av modulens namn. Man kan även definiera ett alias till modulen genom att skriva \"import x <i>as</i> y\" för att göra det lättare att anropa modulen eller för att göra namnet mer begripligt när man skriver koden. </p>"
   ]
  },
  {
   "cell_type": "code",
   "execution_count": 24,
   "metadata": {},
   "outputs": [],
   "source": [
    "#import math\n",
    "import math as matte"
   ]
  },
  {
   "cell_type": "markdown",
   "metadata": {},
   "source": [
    "Denna modul kan vi sedan sätta i användning genom att göra ett så kallat anrop. Nedan definieras en variabel x till pi genom ett anrop till funktionen <i>pi</i> i modulen math (eller \"matte\" som vi ovan döpt om den till!) och skrivs ut:"
   ]
  },
  {
   "cell_type": "code",
   "execution_count": 25,
   "metadata": {},
   "outputs": [
    {
     "name": "stdout",
     "output_type": "stream",
     "text": [
      "Pi är lika med  3.141592653589793\n"
     ]
    }
   ],
   "source": [
    "x = matte.pi\n",
    "print(\"Pi är lika med \", x)"
   ]
  },
  {
   "cell_type": "markdown",
   "metadata": {},
   "source": [
    "<h2>Funktioner</h2>"
   ]
  },
  {
   "cell_type": "code",
   "execution_count": null,
   "metadata": {},
   "outputs": [],
   "source": [
    "#Funktioner\n",
    "\n",
    "def funktion1():\n",
    "    print(\"Hello, welcome to funktion1!\")\n",
    "function()\n"
   ]
  },
  {
   "cell_type": "markdown",
   "metadata": {},
   "source": [
    "<h2>Variabler och operatorer</h2>\n"
   ]
  },
  {
   "cell_type": "code",
   "execution_count": null,
   "metadata": {},
   "outputs": [],
   "source": [
    "#Variabler\n",
    "#Man behöver inte specifiera någon specifik datatyp, utan python sätter den beroende på vilken typ av data man matar in, ex. 1 = int, 'Hej' = str etc...\n",
    "\n",
    "a = 'Hej!'  #string\n",
    "b = 1       #integer\n",
    "c = 3.2     #float\n",
    "d = True    #Bool (OBS, stort T! (eller F, om False!) )\n",
    "\n",
    "#Med dessa kan man räkna, lägga ihop dem, etc. med hjälp av operatorer!\n",
    "# + :addition\n",
    "# - :subtraktion\n",
    "# / :division\n",
    "# * :multiplikation\n",
    "# //:heltalsdivision\n",
    "# % :rest av division\n",
    "# ** :upphöjt med\n",
    "\n",
    "# Heltalsdivision kapar bort decimalerna!\n",
    "# 5 // 2 = 2\n",
    "# 3 // 2 = 1\n",
    "\n",
    "# Rest av heltalsdivision blir alltså:\n",
    "# 5 % 2 = 5 (!!)\n",
    "# 3 % 2 = 5 \n",
    "\n",
    "# Rest av Heltalsdivision kan man använda för att exempelvis avgöra om ett tal är udda eller jämnt!"
   ]
  },
  {
   "cell_type": "markdown",
   "metadata": {},
   "source": [
    "Man kan även hämta datatypen hos en given variabel genom funktionen \"type(x)\":"
   ]
  },
  {
   "cell_type": "code",
   "execution_count": null,
   "metadata": {},
   "outputs": [
    {
     "name": "stdout",
     "output_type": "stream",
     "text": [
      "<class 'str'>\n",
      "<class 'int'>\n",
      "<class 'float'>\n",
      "<class 'bool'>\n"
     ]
    }
   ],
   "source": [
    "print(type(a))\n",
    "print(type(b))\n",
    "print(type(c))\n",
    "print(type(d))"
   ]
  },
  {
   "cell_type": "markdown",
   "metadata": {},
   "source": [
    "<h2>For- while- och if"
   ]
  },
  {
   "cell_type": "markdown",
   "metadata": {},
   "source": [
    "For-loopen itererar ett stycke kod för varje objekt i ett dataset så som en lista, range eller sträng. Detta kan man använda för att exempelvis räkna upp ett tal utifrån antalet objekt i en lista, eller bokstäver i en textsträng. Exempel:"
   ]
  },
  {
   "cell_type": "code",
   "execution_count": null,
   "metadata": {},
   "outputs": [
    {
     "name": "stdout",
     "output_type": "stream",
     "text": [
      "Antal frukter i fruktkorgen:  4\n"
     ]
    }
   ],
   "source": [
    "fruktkorg = [\"banan\", \"äpple\", \"äpple\", \"päron\"]\n",
    "antal_frukter = 0\n",
    "\n",
    "for x in fruktkorg:\n",
    "    antal_frukter += 1\n",
    "print(\"Antal frukter i fruktkorgen: \", antal_frukter)"
   ]
  },
  {
   "cell_type": "markdown",
   "metadata": {},
   "source": [
    "While-loopen itererar ett stycke kod sålänge ett givet villkor är sant. Detta kan man också använda för att räkna upp tal i olika situationer. Här kan man använda sig av en iteratorvariabel _i_ för att räkna antalet iterationer som görs. \n",
    "<p>I exemplet nedan räknas tal2 upp med 1 tills i = tal1.</p>"
   ]
  },
  {
   "cell_type": "code",
   "execution_count": null,
   "metadata": {},
   "outputs": [
    {
     "name": "stdout",
     "output_type": "stream",
     "text": [
      "1\n",
      "2\n",
      "3\n",
      "4\n",
      "5\n",
      "6\n",
      "7\n",
      "8\n",
      "9\n",
      "10\n"
     ]
    }
   ],
   "source": [
    "tal1 = 10\n",
    "tal2 = 0\n",
    "i = 0\n",
    "while i < tal1:    #Så länge talet i är mindre eller lika med tal1 kommer kodavsnittet innanför loopen att iterera!\n",
    "    tal2 += 1\n",
    "    i += 1          #Detta räknar upp talet i för varje iteration, detta gör att talet i ökar och därför till slut kommer att bryta loopen då villkoret inte längre gäller!\n",
    "    print(tal2)\n"
   ]
  },
  {
   "cell_type": "markdown",
   "metadata": {},
   "source": [
    "Man kan också använda tal2 som iterator för att lösa samma problem! Då fungerar variabeln _tal2_ som variabeln _i_ istället!"
   ]
  },
  {
   "cell_type": "code",
   "execution_count": null,
   "metadata": {},
   "outputs": [
    {
     "name": "stdout",
     "output_type": "stream",
     "text": [
      "1\n",
      "2\n",
      "3\n",
      "4\n",
      "5\n",
      "6\n",
      "7\n",
      "8\n",
      "9\n",
      "10\n"
     ]
    }
   ],
   "source": [
    "tal1 = 10\n",
    "tal2 = 0\n",
    "while tal2 < tal1:\n",
    "    tal2 += 1\n",
    "    print(tal2)\n"
   ]
  },
  {
   "cell_type": "markdown",
   "metadata": {},
   "source": [
    "If- och else-satserna använder man sig av för att göra val. Det kan exempelvis vara att om ett tal är större än ett annat, körs en viss kod. Annars körs en annan! \n",
    "<p>I exemplet nedan skrivs ett program som jämför två olika inmatade tal. <b>Om</b> tal 1 är större än tal 2 skrivs \"Tal 1 är större än tal 2\", <b>annars</b> skrivs \"Tal 1 är INTE större än tal 2!\".</p>"
   ]
  },
  {
   "cell_type": "code",
   "execution_count": null,
   "metadata": {},
   "outputs": [
    {
     "name": "stdout",
     "output_type": "stream",
     "text": [
      "Tal 1 är större än tal 2\n"
     ]
    }
   ],
   "source": [
    "x = int(input(\"Skriv in tal 1: \"))\n",
    "y = int(input(\"Skriv in tal 2: \"))\n",
    "\n",
    "if x > y:\n",
    "    print(\"Tal 1 är större än tal 2\")\n",
    "else:\n",
    "    print(\"Tal 1 är INTE större än tal 2!\")"
   ]
  },
  {
   "cell_type": "markdown",
   "metadata": {},
   "source": [
    "Man kan också bilda kedjor med if- och else-satser genom att använda sig av ihopskrivningen __\"elif\"__! Exempel:"
   ]
  },
  {
   "cell_type": "code",
   "execution_count": null,
   "metadata": {},
   "outputs": [
    {
     "name": "stdout",
     "output_type": "stream",
     "text": [
      "Tal 1 och tal 2 är lika stora!\n"
     ]
    }
   ],
   "source": [
    "x = int(input(\"Skriv in tal 1: \"))\n",
    "y = int(input(\"Skriv in tal 2: \"))\n",
    "\n",
    "if x > y:\n",
    "    print(\"Tal 1 är större än tal 2\")\n",
    "elif x < y:\n",
    "    print(\"Tal 1 är mindre än tal 2!\")\n",
    "elif x == y:\n",
    "    print(\"Tal 1 och tal 2 är lika stora!\")"
   ]
  },
  {
   "cell_type": "markdown",
   "metadata": {},
   "source": [
    "<h2>Inputs</h2>\n",
    "<p>Inputs kan man använda för att låta användaren mata in egna värden på exempelvis variabler.</p>\n",
    "<p>För att bestämma vilken datatyp det inmatade värdet ska vara kan man göra en cast till en viss datatyp, exempelvis \"int\".</p>"
   ]
  },
  {
   "cell_type": "code",
   "execution_count": null,
   "metadata": {},
   "outputs": [
    {
     "name": "stdout",
     "output_type": "stream",
     "text": [
      "Datainmatning =  Bär\n",
      "datainmatningInt =  2\n"
     ]
    }
   ],
   "source": [
    "datainmatning = input(\"Skriv in ett värde: \")   #När denna körs kommer en dialogruta dyka upp med uppmaningen att \"Skriva in ett värde\". det värdet \n",
    "                                                # kommer att lagras i variabeln 'datainmatning'.\n",
    "datainmatningInt = int(input(\"Skriv in ett heltalsvärde: \")) #Här kommer det inmatade värdet att bli ett heltal. Här kan man INTE skriva in ett decimaltal!\n",
    "print(\"Datainmatning = \", datainmatning)\n",
    "print(\"datainmatningInt = \", datainmatningInt)"
   ]
  },
  {
   "cell_type": "markdown",
   "metadata": {},
   "source": [
    "<h1>Övningsuppgifter</h1>"
   ]
  },
  {
   "cell_type": "markdown",
   "metadata": {},
   "source": [
    "<h3>Uppgift 1</h3>\n",
    "Vi ska omvandla °F till °C genom att skapa ett program som gör omvandlingen åt oss. \n",
    "Vi har en matematisk formel som beskriver förhållandet mellan °F och °C vilket vi ska översätta till programkod!\n",
    "<p>Formeln är: C = ((F-32)*5) / 9 </p>\n",
    "<p>Dessa data har vi:</p>\n",
    "<li>In: temp i °F</li>\n",
    "<li>Ut: temp i °C</li>"
   ]
  },
  {
   "cell_type": "code",
   "execution_count": null,
   "metadata": {},
   "outputs": [
    {
     "name": "stdout",
     "output_type": "stream",
     "text": [
      "Temperaturen i Celsius:  4.4\n"
     ]
    }
   ],
   "source": [
    "fahrenheit = float(input(\"Vad är temperaturen i Fahrenheit? \"))\n",
    "\n",
    "celsius = ((fahrenheit-32)*5)/9\n",
    "\n",
    "print(\"Temperaturen i Celsius: \", round(celsius, 1))\n"
   ]
  },
  {
   "cell_type": "markdown",
   "metadata": {},
   "source": [
    "<h3>Uppgift 2</h3>\n",
    "Vi ska skriva ett program som beräknar omkretsen och arean hos en cirkel. Indata till programmet ska vara cirkelns diameter. Svaren skall avrundas till 2 decimaler! <i>Tips: använd funktionen \"round()\"!</i>\n",
    "<p>Dessa data har vi:</p>\n",
    "<li>In: Cirkelns diameter i cm</li>\n",
    "<li>Ut: Cirkelns omkrets</li>\n",
    "<li>Ut: Cirkelns area</li>"
   ]
  },
  {
   "cell_type": "code",
   "execution_count": 2,
   "metadata": {},
   "outputs": [
    {
     "name": "stdout",
     "output_type": "stream",
     "text": [
      "Omkretsen är:  31.42\n",
      "Arean är:  78.54  cm^2\n"
     ]
    }
   ],
   "source": [
    "import math as matte\n",
    "\n",
    "def calc_omkrets(dia):                          #\n",
    "    omkrets = dia * matte.pi\n",
    "    print(\"Omkretsen är: \", round(omkrets, 2))\n",
    "\n",
    "def calc_area(dia):\n",
    "    radie = dia/2\n",
    "    area = (radie**2)*matte.pi\n",
    "    print(\"Arean är: \", round(area, 2), \" cm^2\")\n",
    "\n",
    "def calc_area2(dia):\n",
    "    area = ((dia/2)**2)*matte.pi\n",
    "    print(\"Arean är: \", area, \" cm^2\")\n",
    "\n",
    "calc_omkrets(float(input(\"Ange diameter: \")))\n",
    "calc_area(float(input(\"Ange diameter: \")))"
   ]
  },
  {
   "cell_type": "markdown",
   "metadata": {},
   "source": [
    "<h3>Uppgift 3</h3>\n",
    "Nu ska vi skriva ett program som avgör om ett tal är jämnt eller udda. Programmet skall mata ut \"Talet är jämnt\", eller \"Talet är udda\". Inmatningen ska ske med en dialogruta som talar om för användaren att mata in ett heltal. Datatypen ska vara av typen \"heltal\".\n",
    "<p>Dessa data har vi:</p>\n",
    "<li>In: Ett heltal</li>\n",
    "<li>Out: Besked om talet är jämnt eller udda</li>"
   ]
  },
  {
   "cell_type": "code",
   "execution_count": 13,
   "metadata": {},
   "outputs": [
    {
     "name": "stdout",
     "output_type": "stream",
     "text": [
      "Talet är jämnt!\n"
     ]
    }
   ],
   "source": [
    "tal = int(input(\"Ange ett heltal: \"))\n",
    "\n",
    "if (tal % 2 > 0):\n",
    "    print(\"Talet är udda\")\n",
    "else:\n",
    "    print(\"Talet är jämnt!\")"
   ]
  },
  {
   "cell_type": "code",
   "execution_count": 16,
   "metadata": {},
   "outputs": [
    {
     "name": "stdout",
     "output_type": "stream",
     "text": [
      "Talen är lika!\n",
      "25\n"
     ]
    }
   ],
   "source": [
    "tal1 = int(input(\"Ange tal 1: \"))\n",
    "tal2 = int(input(\"Ange tal 2: \"))\n",
    "\n",
    "if tal1 == tal2:\n",
    "    print(\"Talen är lika!\")\n",
    "    tal3 = tal1 * tal2\n",
    "    print(tal3)\n",
    "    if tal1 < 10:\n",
    "        print(\"Hej!\")\n",
    "    \n",
    "elif tal1 > tal2:\n",
    "    print(\"Tal 1 är större än tal 2!\")\n",
    "else:\n",
    "    print(\"Tal 1 är mindre än tal 2!\")\n"
   ]
  },
  {
   "cell_type": "code",
   "execution_count": 47,
   "metadata": {},
   "outputs": [
    {
     "name": "stdout",
     "output_type": "stream",
     "text": [
      "n\n"
     ]
    }
   ],
   "source": [
    "fruktkorg = [\"äpple\", \n",
    "             \"päron\", \n",
    "             \"apelsin\", \n",
    "             \"banan\", \n",
    "             \"mango\"]\n",
    "\n",
    "fruktlåda = [\"äpple\", \n",
    "             \"päron\", \n",
    "            [\"banan1\", \"banan2\", \"banan3\"],\n",
    "             \"mango\"]\n",
    "\n",
    "print(fruktlåda[2][1])"
   ]
  },
  {
   "cell_type": "code",
   "execution_count": 36,
   "metadata": {},
   "outputs": [
    {
     "name": "stdout",
     "output_type": "stream",
     "text": [
      "Basen är 10.0 inches lång, höjden är 5.0 inches hög.\n",
      "Triangelns area är 25.0 inches.\n"
     ]
    }
   ],
   "source": [
    "import trigo\n",
    "\n",
    "dollar = \"$\"\n",
    "centimeter = \"inches\"\n",
    "inches = '\"'\n",
    "\n",
    "bas = float(input(\"Ange basen: \"))\n",
    "höjd = float(input(\"Ange höjden: \"))\n",
    "area = trigo.area_triangle(bas,höjd)\n",
    "\n",
    "print(f'Basen är {bas} {centimeter} lång, höjden är {höjd} {centimeter} hög.')\n",
    "\n",
    "print(f'Triangelns area är {area} {centimeter}.')"
   ]
  }
 ],
 "metadata": {
  "kernelspec": {
   "display_name": "Python 3",
   "language": "python",
   "name": "python3"
  },
  "language_info": {
   "codemirror_mode": {
    "name": "ipython",
    "version": 3
   },
   "file_extension": ".py",
   "mimetype": "text/x-python",
   "name": "python",
   "nbconvert_exporter": "python",
   "pygments_lexer": "ipython3",
   "version": "3.12.1"
  }
 },
 "nbformat": 4,
 "nbformat_minor": 2
}
