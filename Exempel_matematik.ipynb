{
 "cells": [
  {
   "cell_type": "markdown",
   "metadata": {},
   "source": [
    "### Exempel - matematik"
   ]
  },
  {
   "cell_type": "markdown",
   "metadata": {},
   "source": [
    "1. Skriv ett program som kan konvertera grader till radianer och radianer till grader. Vid konvertering från grader till radianer anger man t ex 90G (90 grader) som ger resultatet PI/2. På motsvarande sätt anges R för radianer t ex 3.14R ger resultatet 180 osv. "
   ]
  },
  {
   "cell_type": "code",
   "execution_count": 16,
   "metadata": {},
   "outputs": [],
   "source": [
    "#skriv källkoden här:"
   ]
  },
  {
   "cell_type": "markdown",
   "metadata": {},
   "source": [
    "2. Skriv ett program som beräknar omkretsen och arean hos en cirkel. Indata till programmet ska vara cirkelns diameter."
   ]
  },
  {
   "cell_type": "code",
   "execution_count": 17,
   "metadata": {},
   "outputs": [],
   "source": [
    "#skriv källkoden här:"
   ]
  },
  {
   "cell_type": "markdown",
   "metadata": {},
   "source": [
    "3. Skriv ett program som beräknar båglängden hos en cirkel. Indata ska vara cirkelns radie och mittpunktsvinkeln i grader."
   ]
  },
  {
   "cell_type": "code",
   "execution_count": 18,
   "metadata": {},
   "outputs": [],
   "source": [
    "#skriv källkoden här:"
   ]
  },
  {
   "cell_type": "markdown",
   "metadata": {},
   "source": [
    "4. Skriv ett program som beräknar arean av en sektor. Indata ska vara cirkeln radie och sektorns mittpunktsvinkel (grader)."
   ]
  },
  {
   "cell_type": "code",
   "execution_count": 19,
   "metadata": {},
   "outputs": [],
   "source": [
    "#skriv källkoden här:"
   ]
  },
  {
   "cell_type": "markdown",
   "metadata": {},
   "source": [
    "5. Skriv ett program som beräknar arean av parallellogram. Indata till programmet ska vara parallellogramets bas (b) och höjd (d)."
   ]
  },
  {
   "cell_type": "code",
   "execution_count": 20,
   "metadata": {},
   "outputs": [],
   "source": [
    "#skriv källkoden här:"
   ]
  },
  {
   "cell_type": "markdown",
   "metadata": {},
   "source": [
    "6. Skriv ett program som beräknar arean och volymen hos en cylinder. Indata ska vara cylinderns diameter och höjd."
   ]
  },
  {
   "cell_type": "code",
   "execution_count": 21,
   "metadata": {},
   "outputs": [],
   "source": [
    "#skriv källkoden här:"
   ]
  },
  {
   "cell_type": "markdown",
   "metadata": {},
   "source": [
    "7. Skriv ett program som multiplicerar två heltal utan att använda multiplikationsoperatorn *."
   ]
  },
  {
   "cell_type": "code",
   "execution_count": 22,
   "metadata": {},
   "outputs": [],
   "source": [
    "#skriv källkoden här:"
   ]
  },
  {
   "cell_type": "markdown",
   "metadata": {},
   "source": [
    "8. Skriv ett program som räknar ut den längsta sträckan som förekommer mellan två hörn i ett rätblock. Indata till programmet ska vara rätblockets sidor (dvs längd, bredd och höjd)."
   ]
  },
  {
   "cell_type": "code",
   "execution_count": 23,
   "metadata": {},
   "outputs": [],
   "source": [
    "#skriv källkoden här:"
   ]
  },
  {
   "cell_type": "markdown",
   "metadata": {},
   "source": [
    "9. Skriv ett program som kastar tärning och beräknar den relativa förekomsten (dvs frekevensen) för utfallen 1-6. Indata är antalet tärningskast N. Använd modulen random."
   ]
  },
  {
   "cell_type": "code",
   "execution_count": 24,
   "metadata": {},
   "outputs": [],
   "source": [
    "# skriv källkoden här:"
   ]
  },
  {
   "cell_type": "markdown",
   "metadata": {},
   "source": [
    "10. Skriv ett program som beräknar medelvärde och standardavvikelse hos en numerisk lista."
   ]
  },
  {
   "cell_type": "code",
   "execution_count": 25,
   "metadata": {},
   "outputs": [],
   "source": [
    "#skriv källkoden här:"
   ]
  },
  {
   "cell_type": "markdown",
   "metadata": {},
   "source": [
    "11. Skriv ett program som beräknar behållningen på ett bankkonto efter N år om man år 0 sätter in summan M. Räntesatsen per år är R %."
   ]
  },
  {
   "cell_type": "code",
   "execution_count": null,
   "metadata": {},
   "outputs": [],
   "source": [
    "#skriv källkoden här:\n"
   ]
  }
 ],
 "metadata": {
  "kernelspec": {
   "display_name": "Python 3",
   "language": "python",
   "name": "python3"
  },
  "language_info": {
   "codemirror_mode": {
    "name": "ipython",
    "version": 3
   },
   "file_extension": ".py",
   "mimetype": "text/x-python",
   "name": "python",
   "nbconvert_exporter": "python",
   "pygments_lexer": "ipython3",
   "version": "3.7.4"
  }
 },
 "nbformat": 4,
 "nbformat_minor": 2
}
